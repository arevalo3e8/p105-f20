{
 "cells": [
  {
   "cell_type": "markdown",
   "metadata": {},
   "source": [
    "## Homework 13 Problem 6"
   ]
  },
  {
   "cell_type": "markdown",
   "metadata": {
    "deletable": true,
    "editable": true
   },
   "source": [
    "Chaotic systems with a continuous notion of time can be computationally expensive to model.  However, problems with discrete time steps are much easier to explore on the computer.  We'll look at one example of such a system in this notebook--the one-dimensional logistic map.\n",
    "\n",
    "The logistic map is a discrete iterative map, which means that it maps a current value, $x_n$, onto the next value, $x_{n+1}$, following some rule:\n",
    "\n",
    "$$x_{n+1} = f(x_n)$$\n",
    "\n",
    "For a given intial value $x_1$, this mapping can either lead to stable fixed points ($x^* = x_{n+1} = x_n$), cycles ($x_{n+i}=x_n \\ | \\ \\forall n, i \\in \\mathbb{Z}>1$), or seemingly random values of $x_n$.  This seemingly random behavior is called \"chaos\".  As we will see, this chaotic behavior is not truly random but displays structure related to the defining function $f(x)$."
   ]
  },
  {
   "cell_type": "markdown",
   "metadata": {
    "deletable": true,
    "editable": true
   },
   "source": [
    "The iterative equation of the one-dimensional logistic map is\n",
    "\n",
    "$$x_{n+1} = rx_n(1-x_n)$$,\n",
    "\n",
    "where $0 < r< 4$ is a \"gain\" parameter.  Use the following functions to explore the bifurcation diagram of the logistic map."
   ]
  },
  {
   "cell_type": "code",
   "execution_count": 67,
   "metadata": {
    "collapsed": true,
    "deletable": true,
    "editable": true
   },
   "outputs": [],
   "source": [
    "import numpy as np\n",
    "import matplotlib.pyplot as plt\n",
    "\n",
    "#Defining function of logistic map\n",
    "def f(x, r):\n",
    "    return r*x*(1-x)\n",
    "\n",
    "def iterate(r, num_steps, burn):\n",
    "    x = 0.5\n",
    "    points = []\n",
    "    for i in range(num_steps):\n",
    "        x = f(x,r)\n",
    "        if i > burn:\n",
    "            points.append((r,x))\n",
    "    return(points)\n",
    "            \n",
    "def bifurcation_diagram(low, high, ylim):\n",
    "    points = []\n",
    "    r_list = np.linspace(low, high,1000)\n",
    "    for r in r_list:\n",
    "        points.extend(iterate(r,1000,500))   #you may want to scale these up for higher precision\n",
    "    fig, ax1 = plt.subplots(1, 1, figsize=(8, 8))\n",
    "    r, x = zip(*points)\n",
    "    ax1.plot(r, x, ',c', alpha=.1)\n",
    "    ax1.set_xlim(low, high)\n",
    "    ax1.set_ylim(ylim[0], ylim[1])\n",
    "    ax1.set_title(\"Bifurcation diagram\", fontsize = 20)\n",
    "    ax1.set_xlabel('r', fontsize=16)\n",
    "    ax1.set_ylabel('x', fontsize=16)\n",
    "    ax1.tick_params(axis='both', which='major', labelsize=14)\n",
    "    plt.show()\n",
    "    "
   ]
  },
  {
   "cell_type": "markdown",
   "metadata": {
    "deletable": true,
    "editable": true
   },
   "source": [
    "Please explain in a sentence or two what the code above is doing to generate a bifurcation diagram.  It may help to first run the code for $x\\in(0,4)$ and $y\\in(0,1)$ to see the results."
   ]
  },
  {
   "cell_type": "markdown",
   "metadata": {},
   "source": [
    "Answer"
   ]
  },
  {
   "cell_type": "markdown",
   "metadata": {
    "deletable": true,
    "editable": true
   },
   "source": [
    "Consider figure 12.41 in Taylor.  The small rectangular box in it is enlarged and shown in figure 12.44.  Recreate both of these plots using the function above."
   ]
  },
  {
   "cell_type": "code",
   "execution_count": 2,
   "metadata": {
    "collapsed": false,
    "deletable": true,
    "editable": true
   },
   "outputs": [
    {
     "data": {
      "text/plain": [
       "'Answer'"
      ]
     },
     "execution_count": 2,
     "metadata": {},
     "output_type": "execute_result"
    }
   ],
   "source": [
    "\"Answer\""
   ]
  },
  {
   "cell_type": "code",
   "execution_count": 3,
   "metadata": {
    "collapsed": false,
    "deletable": true,
    "editable": true
   },
   "outputs": [
    {
     "data": {
      "text/plain": [
       "'Answer'"
      ]
     },
     "execution_count": 3,
     "metadata": {},
     "output_type": "execute_result"
    }
   ],
   "source": [
    "\"Answer\""
   ]
  },
  {
   "cell_type": "markdown",
   "metadata": {
    "collapsed": true,
    "deletable": true,
    "editable": true
   },
   "source": [
    "Compare your enlarged version to the original.  Consider (and plot) a third iteration with the following bounds:\n",
    "$r \\in (3.8537, 3.8542)$ and $x \\in (0.491, 0.5073)$. What do you observe?"
   ]
  },
  {
   "cell_type": "code",
   "execution_count": 4,
   "metadata": {
    "collapsed": false,
    "deletable": true,
    "editable": true
   },
   "outputs": [
    {
     "data": {
      "text/plain": [
       "'Answer'"
      ]
     },
     "execution_count": 4,
     "metadata": {},
     "output_type": "execute_result"
    }
   ],
   "source": [
    "\"Answer\""
   ]
  },
  {
   "cell_type": "markdown",
   "metadata": {
    "deletable": true,
    "editable": true
   },
   "source": [
    "A:  We observe the same figure: first upright, then inverted, then upright again, but it is present at 3 drastically different scales."
   ]
  },
  {
   "cell_type": "markdown",
   "metadata": {
    "deletable": true,
    "editable": true
   },
   "source": [
    "To begin to quantify the phenomenon we're observing here, we turn to Feigenbaum's $\\delta$ (discussed on page 474 of Taylor).  Play around with your figure to identify roughly for what $r$ values the first 4 period-doubling bifurcation (PDB) occurs.  Note them  below approximately (To observe convergence, you will probably need to go to 4 decimals for the last two and boost the number of iterations of the code before it  designates an $x$ value as a fixed point):"
   ]
  },
  {
   "cell_type": "markdown",
   "metadata": {
    "deletable": true,
    "editable": true
   },
   "source": [
    "Answer:\n",
    "\n",
    "First PDB: r=\n",
    "\n",
    "Second PDB: r=\n",
    "\n",
    "Third PDB: r=\n",
    "\n",
    "Fourth PDB: r=\n"
   ]
  },
  {
   "cell_type": "markdown",
   "metadata": {
    "deletable": true,
    "editable": true
   },
   "source": [
    "Once we have at least 4 consecutive values of $r$ where a period doubling bifurcation occurs, apply equation 12.17 from Taylor to approximate $\\delta$.  Do you observe convergence?"
   ]
  },
  {
   "cell_type": "markdown",
   "metadata": {
    "deletable": true,
    "editable": true
   },
   "source": [
    "Answer"
   ]
  }
 ],
 "metadata": {
  "kernelspec": {
   "display_name": "Python 3",
   "language": "python",
   "name": "python3"
  },
  "language_info": {
   "codemirror_mode": {
    "name": "ipython",
    "version": 3
   },
   "file_extension": ".py",
   "mimetype": "text/x-python",
   "name": "python",
   "nbconvert_exporter": "python",
   "pygments_lexer": "ipython3",
   "version": "3.5.2"
  }
 },
 "nbformat": 4,
 "nbformat_minor": 2
}
